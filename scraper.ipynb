{
 "cells": [
  {
   "cell_type": "code",
   "execution_count": 42,
   "metadata": {},
   "outputs": [],
   "source": [
    "from selenium import webdriver\n",
    "from selenium.webdriver.common.by import By\n",
    "from selenium.webdriver.chrome.service import Service\n",
    "from webdriver_manager.chrome import ChromeDriverManager\n",
    "from selenium.webdriver.chrome.options import Options\n",
    "\n",
    "def scrape_lowes():\n",
    "    url = 'https://www.homedepot.com/p/Siemens-20-Amp-AFCI-GFCI-Dual-Function-Circuit-Breaker-Q120DFP/205488018'\n",
    "\n",
    "    # Set up Chrome options\n",
    "    chrome_options = Options()\n",
    "\n",
    "    # Set up the webdriver\n",
    "    driver = webdriver.Chrome(service=Service(ChromeDriverManager().install()), options=chrome_options)\n",
    "    driver.get(url)\n",
    "\n",
    "    # Wait for the reviews to load\n",
    "    driver.implicitly_wait(20)  # Wait for elements to load\n",
    "\n",
    "    # Find all review elements\n",
    "    reviews = []\n",
    "    review_elements = driver.find_elements(By.CSS_SELECTOR, 'div[class=\"review-content-body\"]')\n",
    "    \n",
    "    for review_element in review_elements:\n",
    "        review_text = review_element.text.strip()\n",
    "        reviews.append(review_text)\n",
    "\n",
    "    driver.quit()\n",
    "    return reviews\n",
    "\n",
    "def print_reviews(reviews):\n",
    "    for i, review in enumerate(reviews, 1):\n",
    "        print(f\"Review {i}: {review}\\n\")\n",
    "\n",
    "if __name__ == '__main__':\n",
    "    reviews = scrape_lowes()\n",
    "    print_reviews(reviews)"
   ]
  }
 ],
 "metadata": {
  "kernelspec": {
   "display_name": "roiyalrealestate",
   "language": "python",
   "name": "python3"
  },
  "language_info": {
   "codemirror_mode": {
    "name": "ipython",
    "version": 3
   },
   "file_extension": ".py",
   "mimetype": "text/x-python",
   "name": "python",
   "nbconvert_exporter": "python",
   "pygments_lexer": "ipython3",
   "version": "3.9.undefined"
  }
 },
 "nbformat": 4,
 "nbformat_minor": 2
}
